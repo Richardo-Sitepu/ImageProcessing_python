{
  "nbformat": 4,
  "nbformat_minor": 0,
  "metadata": {
    "colab": {
      "name": "Untitled0.ipynb",
      "provenance": [],
      "collapsed_sections": [],
      "machine_shape": "hm",
      "include_colab_link": true
    },
    "kernelspec": {
      "name": "python3",
      "display_name": "Python 3"
    },
    "accelerator": "GPU"
  },
  "cells": [
    {
      "cell_type": "markdown",
      "metadata": {
        "id": "view-in-github",
        "colab_type": "text"
      },
      "source": [
        "<a href=\"https://colab.research.google.com/github/Richardo-Sitepu/image_python/blob/main/Assignment12.ipynb\" target=\"_parent\"><img src=\"https://colab.research.google.com/assets/colab-badge.svg\" alt=\"Open In Colab\"/></a>"
      ]
    },
    {
      "cell_type": "code",
      "metadata": {
        "colab": {
          "base_uri": "https://localhost:8080/"
        },
        "id": "XuWslnWjXYzM",
        "outputId": "2d5baf4e-f127-4b78-a3bd-4226a4c18ef5"
      },
      "source": [
        "from google.colab import drive\n",
        "drive.mount('/content/drive')"
      ],
      "execution_count": 1,
      "outputs": [
        {
          "output_type": "stream",
          "text": [
            "Drive already mounted at /content/drive; to attempt to forcibly remount, call drive.mount(\"/content/drive\", force_remount=True).\n"
          ],
          "name": "stdout"
        }
      ]
    },
    {
      "cell_type": "code",
      "metadata": {
        "colab": {
          "base_uri": "https://localhost:8080/"
        },
        "id": "tD_JXb22Xivn",
        "outputId": "b57d355f-51c9-4729-f98c-9e4f451b1a47"
      },
      "source": [
        "cd /content/drive/MyDrive/"
      ],
      "execution_count": 2,
      "outputs": [
        {
          "output_type": "stream",
          "text": [
            "/content/drive/MyDrive\n"
          ],
          "name": "stdout"
        }
      ]
    },
    {
      "cell_type": "code",
      "metadata": {
        "id": "jvexyITJBvWW"
      },
      "source": [
        "#import the necessary packages\r\n",
        "from keras.models import Sequential\r\n",
        "from keras.layers.core import Activation\r\n",
        "from keras.layers.core import Flatten\r\n",
        "from keras.layers.core import Dense\r\n",
        "from keras.optimizers import Adam\r\n",
        "from sklearn.preprocessing import LabelBinarizer\r\n",
        "from sklearn.model_selection import train_test_split\r\n",
        "from sklearn.metrics import classification_report\r\n",
        "from PIL import Image\r\n",
        "from imutils import paths\r\n",
        "import numpy as np\r\n",
        "import os"
      ],
      "execution_count": 3,
      "outputs": []
    },
    {
      "cell_type": "code",
      "metadata": {
        "colab": {
          "base_uri": "https://localhost:8080/"
        },
        "id": "b7FS_KFSB5nw",
        "outputId": "95630b34-1b25-47d2-fa90-06131a99fc3f"
      },
      "source": [
        "# grab all image paths in the input datashet directory, then initialize \r\n",
        "# our list of images and coressponding class labels\r\n",
        "print(\"[info] loading images...\")\r\n",
        "imagePaths = paths.list_images(\"dataset5class\")\r\n",
        "data = []\r\n",
        "labels = []"
      ],
      "execution_count": 4,
      "outputs": [
        {
          "output_type": "stream",
          "text": [
            "[info] loading images...\n"
          ],
          "name": "stdout"
        }
      ]
    },
    {
      "cell_type": "code",
      "metadata": {
        "id": "3cH_ez_vB9wJ"
      },
      "source": [
        "# loop over our input images\r\n",
        "for imagePath in imagePaths:\r\n",
        "  # load the input image from disk, resize it to 64x64 pixels, scale the pixel\r\n",
        "  # intensities to the range [0, 1], and the update our images list\r\n",
        "  image = Image.open(imagePath)\r\n",
        "  image = np.array(image.resize((800, 800))) / 255.0\r\n",
        "  data.append(image)\r\n",
        "\r\n",
        "  # extract the class label from the file path and update the label list\r\n",
        "  label = imagePath.split(os.path.sep)[-2]\r\n",
        "  labels.append(label)"
      ],
      "execution_count": 5,
      "outputs": []
    },
    {
      "cell_type": "code",
      "metadata": {
        "colab": {
          "base_uri": "https://localhost:8080/"
        },
        "id": "TpnMkTkJCAIp",
        "outputId": "d997e7c0-4dc8-4bb8-b14c-ca9fb6a02584"
      },
      "source": [
        "print(labels)"
      ],
      "execution_count": 6,
      "outputs": [
        {
          "output_type": "stream",
          "text": [
            "['GMB_06', 'GMB_06', 'GMB_06', 'GMB_06', 'GMB_06', 'GMB_06', 'GMB_06', 'GMB_06', 'GMB_06', 'GMB_06', 'GMB_06', 'GMB_06', 'GMB_06', 'GMB_06', 'GMB_06', 'GMB_06', 'GMB_06', 'GMB_06', 'GMB_06', 'GMB_06', 'GMB_06', 'GMB_06', 'GMB_06', 'GMB_06', 'GMB_06', 'GMB_06', 'GMB_06', 'GMB_06', 'GMB_06', 'GMB_06', 'GMB_06', 'GMB_06', 'GMB_06', 'GMB_06', 'GMB_06', 'GMB_06', 'GMB_06', 'GMB_06', 'GMB_06', 'GMB_06', 'GMB_06', 'GMB_06', 'GMB_06', 'GMB_06', 'GMB_06', 'GMB_06', 'GMB_06', 'GMB_06', 'GMB_06', 'GMB_06', 'GMB_06', 'GMB_06', 'GMB_06', 'GMB_06', 'GMB_06', 'GMB_06', 'GMB_06', 'GMB_06', 'GMB_06', 'GMB_06', 'GMB_06', 'GMB_06', 'GMB_06', 'GMB_06', 'GMB_06', 'GMB_06', 'GMB_06', 'GMB_06', 'GMB_06', 'GMB_06', 'GMB_06', 'GMB_06', 'GMB_06', 'GMB_06', 'GMB_06', 'GMB_06', 'GMB_06', 'GMB_06', 'GMB_06', 'GMB_06', 'GMB_06', 'GMB_06', 'GMB_06', 'GMB_06', 'GMB_06', 'GMB_06', 'GMB_06', 'GMB_06', 'GMB_06', 'GMB_06', 'GMB_06', 'GMB_06', 'GMB_06', 'GMB_06', 'GMB_06', 'GMB_06', 'GMB_06', 'GMB_06', 'GMB_06', 'GMB_06', 'GMB_06', 'GMB_06', 'GMB_06', 'GMB_06', 'GMB_06', 'GMB_06', 'GMB_06', 'GMB_06', 'GMB_06', 'GMB_06', 'GMB_06', 'GMB_06', 'GMB_06', 'GMB_06', 'GMB_06', 'GMB_06', 'GMB_06', 'GMB_06', 'GMB_06', 'GMB_06', 'GMB_06', 'GMB_07', 'GMB_07', 'GMB_07', 'GMB_07', 'GMB_07', 'GMB_07', 'GMB_07', 'GMB_07', 'GMB_07', 'GMB_07', 'GMB_07', 'GMB_07', 'GMB_07', 'GMB_07', 'GMB_07', 'GMB_07', 'GMB_07', 'GMB_07', 'GMB_07', 'GMB_07', 'GMB_07', 'GMB_07', 'GMB_07', 'GMB_07', 'GMB_07', 'GMB_07', 'GMB_07', 'GMB_07', 'GMB_07', 'GMB_07', 'GMB_07', 'GMB_07', 'GMB_07', 'GMB_07', 'GMB_07', 'GMB_07', 'GMB_07', 'GMB_07', 'GMB_07', 'GMB_07', 'GMB_07', 'GMB_07', 'GMB_07', 'GMB_07', 'GMB_07', 'GMB_07', 'GMB_07', 'GMB_07', 'GMB_07', 'GMB_07', 'GMB_07', 'GMB_07', 'GMB_07', 'GMB_07', 'GMB_07', 'GMB_07', 'GMB_07', 'GMB_07', 'GMB_07', 'GMB_07', 'GMB_07', 'GMB_07', 'GMB_07', 'GMB_07', 'GMB_07', 'GMB_07', 'GMB_07', 'GMB_07', 'GMB_07', 'GMB_07', 'GMB_07', 'GMB_07', 'GMB_07', 'GMB_07', 'GMB_07', 'GMB_07', 'GMB_07', 'GMB_07', 'GMB_07', 'GMB_07', 'GMB_07', 'GMB_07', 'GMB_07', 'GMB_07', 'GMB_07', 'GMB_07', 'GMB_07', 'GMB_07', 'GMB_07', 'GMB_07', 'GMB_07', 'GMB_07', 'GMB_07', 'GMB_07', 'GMB_07', 'GMB_07', 'GMB_07', 'GMB_07', 'GMB_07', 'GMB_07', 'GMB_07', 'GMB_07', 'GMB_07', 'GMB_07', 'GMB_07', 'GMB_07', 'GMB_07', 'GMB_07', 'GMB_07', 'GMB_07', 'GMB_07', 'GMB_07', 'GMB_07', 'GMB_07', 'GMB_07', 'GMB_07', 'GMB_07', 'GMB_07', 'GMB_07', 'GMB_07', 'GMB_07', 'GMB_08', 'GMB_08', 'GMB_08', 'GMB_08', 'GMB_08', 'GMB_08', 'GMB_08', 'GMB_08', 'GMB_08', 'GMB_08', 'GMB_08', 'GMB_08', 'GMB_08', 'GMB_08', 'GMB_08', 'GMB_08', 'GMB_08', 'GMB_08', 'GMB_08', 'GMB_08', 'GMB_08', 'GMB_08', 'GMB_08', 'GMB_08', 'GMB_08', 'GMB_08', 'GMB_08', 'GMB_08', 'GMB_08', 'GMB_08', 'GMB_08', 'GMB_08', 'GMB_08', 'GMB_08', 'GMB_08', 'GMB_08', 'GMB_08', 'GMB_08', 'GMB_08', 'GMB_08', 'GMB_08', 'GMB_08', 'GMB_08', 'GMB_08', 'GMB_08', 'GMB_08', 'GMB_08', 'GMB_08', 'GMB_08', 'GMB_08', 'GMB_08', 'GMB_08', 'GMB_08', 'GMB_08', 'GMB_08', 'GMB_08', 'GMB_08', 'GMB_08', 'GMB_08', 'GMB_08', 'GMB_08', 'GMB_08', 'GMB_08', 'GMB_08', 'GMB_08', 'GMB_08', 'GMB_08', 'GMB_08', 'GMB_08', 'GMB_08', 'GMB_08', 'GMB_08', 'GMB_08', 'GMB_08', 'GMB_08', 'GMB_08', 'GMB_08', 'GMB_08', 'GMB_08', 'GMB_08', 'GMB_08', 'GMB_08', 'GMB_08', 'GMB_08', 'GMB_08', 'GMB_08', 'GMB_08', 'GMB_08', 'GMB_08', 'GMB_08', 'GMB_08', 'GMB_08', 'GMB_08', 'GMB_08', 'GMB_08', 'GMB_08', 'GMB_08', 'GMB_08', 'GMB_08', 'GMB_08', 'GMB_08', 'GMB_08', 'GMB_08', 'GMB_08', 'GMB_08', 'GMB_08', 'GMB_08', 'GMB_08', 'GMB_08', 'GMB_08', 'GMB_08', 'GMB_08', 'GMB_08', 'GMB_08', 'GMB_08', 'GMB_08', 'GMB_08', 'GMB_09', 'GMB_09', 'GMB_09', 'GMB_09', 'GMB_09', 'GMB_09', 'GMB_09', 'GMB_09', 'GMB_09', 'GMB_09', 'GMB_09', 'GMB_09', 'GMB_09', 'GMB_09', 'GMB_09', 'GMB_09', 'GMB_09', 'GMB_09', 'GMB_09', 'GMB_09', 'GMB_09', 'GMB_09', 'GMB_09', 'GMB_09', 'GMB_09', 'GMB_09', 'GMB_09', 'GMB_09', 'GMB_09', 'GMB_09', 'GMB_09', 'GMB_09', 'GMB_09', 'GMB_09', 'GMB_09', 'GMB_09', 'GMB_09', 'GMB_09', 'GMB_09', 'GMB_09', 'GMB_09', 'GMB_09', 'GMB_09', 'GMB_09', 'GMB_09', 'GMB_09', 'GMB_09', 'GMB_09', 'GMB_09', 'GMB_09', 'GMB_09', 'GMB_09', 'GMB_09', 'GMB_09', 'GMB_09', 'GMB_09', 'GMB_10', 'GMB_10', 'GMB_10', 'GMB_10', 'GMB_10', 'GMB_10', 'GMB_10', 'GMB_10', 'GMB_10', 'GMB_10', 'GMB_10', 'GMB_10', 'GMB_10', 'GMB_10', 'GMB_10', 'GMB_10', 'GMB_10', 'GMB_10', 'GMB_10', 'GMB_10', 'GMB_10', 'GMB_10', 'GMB_10', 'GMB_10', 'GMB_10', 'GMB_10', 'GMB_10', 'GMB_10', 'GMB_10', 'GMB_10', 'GMB_10', 'GMB_10', 'GMB_10', 'GMB_10', 'GMB_10', 'GMB_10', 'GMB_10', 'GMB_10', 'GMB_10', 'GMB_10', 'GMB_10', 'GMB_10', 'GMB_10', 'GMB_10', 'GMB_10', 'GMB_10', 'GMB_10', 'GMB_10']\n"
          ],
          "name": "stdout"
        }
      ]
    },
    {
      "cell_type": "code",
      "metadata": {
        "id": "rFEh4xU6DYad"
      },
      "source": [
        "lb = LabelBinarizer()\r\n",
        "labels = lb.fit_transform(labels)"
      ],
      "execution_count": 7,
      "outputs": []
    },
    {
      "cell_type": "code",
      "metadata": {
        "colab": {
          "base_uri": "https://localhost:8080/"
        },
        "id": "PH5wNdCTDcwV",
        "outputId": "9b650fd2-7829-4398-d12f-40327325253a"
      },
      "source": [
        "# perform a training and testing split, using 75% of the data for training and\r\n",
        "# 25% for evaluation\r\n",
        "(trainX, testX, trainY, testY) = train_test_split(np.array(data), np.array(labels), test_size=0.25)\r\n",
        "print(trainX.shape)\r\n",
        "print(testX.shape)"
      ],
      "execution_count": 8,
      "outputs": [
        {
          "output_type": "stream",
          "text": [
            "(347, 800, 800, 3)\n",
            "(116, 800, 800, 3)\n"
          ],
          "name": "stdout"
        }
      ]
    },
    {
      "cell_type": "code",
      "metadata": {
        "colab": {
          "base_uri": "https://localhost:8080/"
        },
        "id": "rHvQEFpbDfZO",
        "outputId": "30e0b788-f6a8-48fb-b74f-fc4464d70778"
      },
      "source": [
        "from keras.layers import Convolution2D, MaxPooling2D, MaxPool2D\r\n",
        "from keras.models import Sequential\r\n",
        "from keras.layers.core import Flatten, Dense\r\n",
        "\r\n",
        "model1 = Sequential()\r\n",
        "model1.add(Convolution2D(8, 5,5, activation='relu', input_shape=(800,800,3)))\r\n",
        "model1.add(MaxPool2D(2,2))\r\n",
        "model1.add(Convolution2D(16, 5,5, activation='relu'))\r\n",
        "model1.add(MaxPool2D(2,2))\r\n",
        "#fully connected layer\r\n",
        "model1.add(Flatten())\r\n",
        "model1.add(Dense(100, activation='relu'))\r\n",
        "model1.add(Dense(5, activation='softmax'))\r\n",
        "\r\n",
        "model1.summary()"
      ],
      "execution_count": 9,
      "outputs": [
        {
          "output_type": "stream",
          "text": [
            "Model: \"sequential\"\n",
            "_________________________________________________________________\n",
            "Layer (type)                 Output Shape              Param #   \n",
            "=================================================================\n",
            "conv2d (Conv2D)              (None, 160, 160, 8)       608       \n",
            "_________________________________________________________________\n",
            "max_pooling2d (MaxPooling2D) (None, 80, 80, 8)         0         \n",
            "_________________________________________________________________\n",
            "conv2d_1 (Conv2D)            (None, 16, 16, 16)        3216      \n",
            "_________________________________________________________________\n",
            "max_pooling2d_1 (MaxPooling2 (None, 8, 8, 16)          0         \n",
            "_________________________________________________________________\n",
            "flatten (Flatten)            (None, 1024)              0         \n",
            "_________________________________________________________________\n",
            "dense (Dense)                (None, 100)               102500    \n",
            "_________________________________________________________________\n",
            "dense_1 (Dense)              (None, 5)                 505       \n",
            "=================================================================\n",
            "Total params: 106,829\n",
            "Trainable params: 106,829\n",
            "Non-trainable params: 0\n",
            "_________________________________________________________________\n"
          ],
          "name": "stdout"
        }
      ]
    },
    {
      "cell_type": "code",
      "metadata": {
        "colab": {
          "base_uri": "https://localhost:8080/"
        },
        "id": "8jdhdc03DlBn",
        "outputId": "f20f97e8-d949-418d-ae5d-de4124558a97"
      },
      "source": [
        "# train the model kusing the Adam optimizer\r\n",
        "print(\"[INFO] training network...\")\r\n",
        "opt = Adam(lr=1e-3, decay=1e-3 / 50)\r\n",
        "model1.compile(loss=\"categorical_crossentropy\", optimizer=opt, metrics=[\"accuracy\"])"
      ],
      "execution_count": 11,
      "outputs": [
        {
          "output_type": "stream",
          "text": [
            "[INFO] training network...\n"
          ],
          "name": "stdout"
        }
      ]
    },
    {
      "cell_type": "code",
      "metadata": {
        "id": "GQeIDhrTDo5n",
        "colab": {
          "base_uri": "https://localhost:8080/"
        },
        "outputId": "164ca0b6-a854-46c0-da8f-f5a7be1fb014"
      },
      "source": [
        "H = model1.fit(trainX, trainY, validation_data=(testX, testY), epochs=50, batch_size=10)"
      ],
      "execution_count": 12,
      "outputs": [
        {
          "output_type": "stream",
          "text": [
            "Epoch 1/50\n",
            "35/35 [==============================] - 8s 47ms/step - loss: 1.6072 - accuracy: 0.2206 - val_loss: 1.5447 - val_accuracy: 0.2931\n",
            "Epoch 2/50\n",
            "35/35 [==============================] - 1s 36ms/step - loss: 1.5159 - accuracy: 0.3062 - val_loss: 1.5201 - val_accuracy: 0.3017\n",
            "Epoch 3/50\n",
            "35/35 [==============================] - 1s 36ms/step - loss: 1.4874 - accuracy: 0.3376 - val_loss: 1.3677 - val_accuracy: 0.4138\n",
            "Epoch 4/50\n",
            "35/35 [==============================] - 1s 35ms/step - loss: 1.3198 - accuracy: 0.4427 - val_loss: 1.2473 - val_accuracy: 0.5776\n",
            "Epoch 5/50\n",
            "35/35 [==============================] - 1s 35ms/step - loss: 1.0992 - accuracy: 0.5902 - val_loss: 1.2170 - val_accuracy: 0.4914\n",
            "Epoch 6/50\n",
            "35/35 [==============================] - 1s 35ms/step - loss: 0.9996 - accuracy: 0.6131 - val_loss: 1.1064 - val_accuracy: 0.5948\n",
            "Epoch 7/50\n",
            "35/35 [==============================] - 1s 35ms/step - loss: 0.9097 - accuracy: 0.6563 - val_loss: 1.1118 - val_accuracy: 0.5431\n",
            "Epoch 8/50\n",
            "35/35 [==============================] - 1s 35ms/step - loss: 0.7881 - accuracy: 0.7394 - val_loss: 1.1534 - val_accuracy: 0.5862\n",
            "Epoch 9/50\n",
            "35/35 [==============================] - 1s 36ms/step - loss: 0.7187 - accuracy: 0.7668 - val_loss: 1.0567 - val_accuracy: 0.6034\n",
            "Epoch 10/50\n",
            "35/35 [==============================] - 1s 36ms/step - loss: 0.5762 - accuracy: 0.7859 - val_loss: 1.0819 - val_accuracy: 0.5948\n",
            "Epoch 11/50\n",
            "35/35 [==============================] - 1s 35ms/step - loss: 0.5092 - accuracy: 0.7957 - val_loss: 1.0548 - val_accuracy: 0.6897\n",
            "Epoch 12/50\n",
            "35/35 [==============================] - 1s 35ms/step - loss: 0.3919 - accuracy: 0.8559 - val_loss: 0.9741 - val_accuracy: 0.6810\n",
            "Epoch 13/50\n",
            "35/35 [==============================] - 1s 35ms/step - loss: 0.4345 - accuracy: 0.8411 - val_loss: 1.0120 - val_accuracy: 0.6810\n",
            "Epoch 14/50\n",
            "35/35 [==============================] - 1s 38ms/step - loss: 0.2964 - accuracy: 0.9118 - val_loss: 1.0810 - val_accuracy: 0.6897\n",
            "Epoch 15/50\n",
            "35/35 [==============================] - 1s 35ms/step - loss: 0.2722 - accuracy: 0.9117 - val_loss: 1.0653 - val_accuracy: 0.6983\n",
            "Epoch 16/50\n",
            "35/35 [==============================] - 1s 35ms/step - loss: 0.2210 - accuracy: 0.9334 - val_loss: 1.2452 - val_accuracy: 0.6638\n",
            "Epoch 17/50\n",
            "35/35 [==============================] - 1s 35ms/step - loss: 0.1391 - accuracy: 0.9689 - val_loss: 1.2555 - val_accuracy: 0.7155\n",
            "Epoch 18/50\n",
            "35/35 [==============================] - 1s 36ms/step - loss: 0.1508 - accuracy: 0.9515 - val_loss: 1.2554 - val_accuracy: 0.6897\n",
            "Epoch 19/50\n",
            "35/35 [==============================] - 1s 35ms/step - loss: 0.1062 - accuracy: 0.9713 - val_loss: 1.2620 - val_accuracy: 0.7155\n",
            "Epoch 20/50\n",
            "35/35 [==============================] - 1s 35ms/step - loss: 0.1096 - accuracy: 0.9728 - val_loss: 1.4498 - val_accuracy: 0.7241\n",
            "Epoch 21/50\n",
            "35/35 [==============================] - 1s 35ms/step - loss: 0.0749 - accuracy: 0.9840 - val_loss: 1.4066 - val_accuracy: 0.7328\n",
            "Epoch 22/50\n",
            "35/35 [==============================] - 1s 35ms/step - loss: 0.0791 - accuracy: 0.9827 - val_loss: 1.5655 - val_accuracy: 0.7155\n",
            "Epoch 23/50\n",
            "35/35 [==============================] - 1s 35ms/step - loss: 0.0922 - accuracy: 0.9461 - val_loss: 1.4503 - val_accuracy: 0.6897\n",
            "Epoch 24/50\n",
            "35/35 [==============================] - 1s 35ms/step - loss: 0.0574 - accuracy: 0.9826 - val_loss: 1.3679 - val_accuracy: 0.7500\n",
            "Epoch 25/50\n",
            "35/35 [==============================] - 1s 35ms/step - loss: 0.0429 - accuracy: 0.9910 - val_loss: 1.4029 - val_accuracy: 0.7500\n",
            "Epoch 26/50\n",
            "35/35 [==============================] - 1s 35ms/step - loss: 0.0372 - accuracy: 0.9926 - val_loss: 1.5845 - val_accuracy: 0.7241\n",
            "Epoch 27/50\n",
            "35/35 [==============================] - 1s 36ms/step - loss: 0.0228 - accuracy: 0.9884 - val_loss: 1.5327 - val_accuracy: 0.7069\n",
            "Epoch 28/50\n",
            "35/35 [==============================] - 1s 36ms/step - loss: 0.0164 - accuracy: 1.0000 - val_loss: 1.5108 - val_accuracy: 0.7672\n",
            "Epoch 29/50\n",
            "35/35 [==============================] - 1s 35ms/step - loss: 0.0127 - accuracy: 1.0000 - val_loss: 1.6066 - val_accuracy: 0.7241\n",
            "Epoch 30/50\n",
            "35/35 [==============================] - 1s 35ms/step - loss: 0.0097 - accuracy: 1.0000 - val_loss: 1.5681 - val_accuracy: 0.7414\n",
            "Epoch 31/50\n",
            "35/35 [==============================] - 1s 35ms/step - loss: 0.0069 - accuracy: 1.0000 - val_loss: 1.5985 - val_accuracy: 0.7414\n",
            "Epoch 32/50\n",
            "35/35 [==============================] - 1s 35ms/step - loss: 0.0070 - accuracy: 1.0000 - val_loss: 1.6183 - val_accuracy: 0.7414\n",
            "Epoch 33/50\n",
            "35/35 [==============================] - 1s 36ms/step - loss: 0.0077 - accuracy: 1.0000 - val_loss: 1.6200 - val_accuracy: 0.7586\n",
            "Epoch 34/50\n",
            "35/35 [==============================] - 1s 36ms/step - loss: 0.0047 - accuracy: 1.0000 - val_loss: 1.6570 - val_accuracy: 0.7500\n",
            "Epoch 35/50\n",
            "35/35 [==============================] - 1s 36ms/step - loss: 0.0059 - accuracy: 1.0000 - val_loss: 1.6759 - val_accuracy: 0.7500\n",
            "Epoch 36/50\n",
            "35/35 [==============================] - 1s 36ms/step - loss: 0.0042 - accuracy: 1.0000 - val_loss: 1.7003 - val_accuracy: 0.7414\n",
            "Epoch 37/50\n",
            "35/35 [==============================] - 1s 35ms/step - loss: 0.0029 - accuracy: 1.0000 - val_loss: 1.7140 - val_accuracy: 0.7414\n",
            "Epoch 38/50\n",
            "35/35 [==============================] - 1s 35ms/step - loss: 0.0031 - accuracy: 1.0000 - val_loss: 1.7239 - val_accuracy: 0.7500\n",
            "Epoch 39/50\n",
            "35/35 [==============================] - 1s 36ms/step - loss: 0.0033 - accuracy: 1.0000 - val_loss: 1.7414 - val_accuracy: 0.7500\n",
            "Epoch 40/50\n",
            "35/35 [==============================] - 1s 35ms/step - loss: 0.0028 - accuracy: 1.0000 - val_loss: 1.7506 - val_accuracy: 0.7586\n",
            "Epoch 41/50\n",
            "35/35 [==============================] - 1s 36ms/step - loss: 0.0029 - accuracy: 1.0000 - val_loss: 1.7672 - val_accuracy: 0.7500\n",
            "Epoch 42/50\n",
            "35/35 [==============================] - 1s 35ms/step - loss: 0.0025 - accuracy: 1.0000 - val_loss: 1.7623 - val_accuracy: 0.7500\n",
            "Epoch 43/50\n",
            "35/35 [==============================] - 1s 35ms/step - loss: 0.0018 - accuracy: 1.0000 - val_loss: 1.7750 - val_accuracy: 0.7500\n",
            "Epoch 44/50\n",
            "35/35 [==============================] - 1s 36ms/step - loss: 0.0021 - accuracy: 1.0000 - val_loss: 1.7889 - val_accuracy: 0.7500\n",
            "Epoch 45/50\n",
            "35/35 [==============================] - 1s 35ms/step - loss: 0.0022 - accuracy: 1.0000 - val_loss: 1.7984 - val_accuracy: 0.7500\n",
            "Epoch 46/50\n",
            "35/35 [==============================] - 1s 35ms/step - loss: 0.0017 - accuracy: 1.0000 - val_loss: 1.8444 - val_accuracy: 0.7328\n",
            "Epoch 47/50\n",
            "35/35 [==============================] - 1s 35ms/step - loss: 0.0022 - accuracy: 1.0000 - val_loss: 1.8034 - val_accuracy: 0.7500\n",
            "Epoch 48/50\n",
            "35/35 [==============================] - 1s 36ms/step - loss: 0.0015 - accuracy: 1.0000 - val_loss: 1.8180 - val_accuracy: 0.7500\n",
            "Epoch 49/50\n",
            "35/35 [==============================] - 1s 35ms/step - loss: 0.0016 - accuracy: 1.0000 - val_loss: 1.8238 - val_accuracy: 0.7672\n",
            "Epoch 50/50\n",
            "35/35 [==============================] - 1s 34ms/step - loss: 0.0015 - accuracy: 1.0000 - val_loss: 1.8575 - val_accuracy: 0.7586\n"
          ],
          "name": "stdout"
        }
      ]
    },
    {
      "cell_type": "code",
      "metadata": {
        "colab": {
          "base_uri": "https://localhost:8080/",
          "height": 590
        },
        "id": "FlUzaUPKDrO5",
        "outputId": "f08314b8-4fae-479b-9fe7-53909a6c304a"
      },
      "source": [
        "import matplotlib.pyplot as plt\r\n",
        "\r\n",
        "print(H.history.keys())\r\n",
        "# summarize history for accuracy\r\n",
        "plt.plot(H.history['accuracy'])\r\n",
        "plt.plot(H.history['val_accuracy'])\r\n",
        "plt.title('model accuracy')\r\n",
        "plt.ylabel('accuracy')\r\n",
        "plt.xlabel('epoch')\r\n",
        "plt.legend(['train', 'test'], loc='upper left')\r\n",
        "plt.show()\r\n",
        "\r\n",
        "#summarize history for loss\r\n",
        "plt.plot(H.history['loss'])\r\n",
        "plt.plot(H.history['val_loss'])\r\n",
        "plt.title('model loss')\r\n",
        "plt.ylabel('loss')\r\n",
        "plt.xlabel('epoch')\r\n",
        "plt.legend(['train', 'test'], loc='upper left')\r\n",
        "plt.show()"
      ],
      "execution_count": 13,
      "outputs": [
        {
          "output_type": "stream",
          "text": [
            "dict_keys(['loss', 'accuracy', 'val_loss', 'val_accuracy'])\n"
          ],
          "name": "stdout"
        },
        {
          "output_type": "display_data",
          "data": {
            "image/png": "[encoded data removed]",
            "text/plain": [
              "<Figure size 432x288 with 1 Axes>"
            ]
          },
          "metadata": {
            "tags": [],
            "needs_background": "light"
          }
        },
        {
          "output_type": "display_data",
          "data": {
            "image/png": "[encoded data removed]",
            "text/plain": [
              "<Figure size 432x288 with 1 Axes>"
            ]
          },
          "metadata": {
            "tags": [],
            "needs_background": "light"
          }
        }
      ]
    },
    {
      "cell_type": "code",
      "metadata": {
        "colab": {
          "base_uri": "https://localhost:8080/"
        },
        "id": "K9cvoGCXFfj8",
        "outputId": "3934816a-7ae5-460a-dc24-ed8040f80f69"
      },
      "source": [
        "# evaluate the network\r\n",
        "print(\"[INFO] evaluating network...\")\r\n",
        "predictions = model1.predict(testX, batch_size=32)\r\n",
        "print(classification_report(testY.argmax(axis=1),\r\n",
        "\tpredictions.argmax(axis=1), target_names=lb.classes_))"
      ],
      "execution_count": 14,
      "outputs": [
        {
          "output_type": "stream",
          "text": [
            "[INFO] evaluating network...\n",
            "              precision    recall  f1-score   support\n",
            "\n",
            "      GMB_06       0.71      0.76      0.74        33\n",
            "      GMB_07       0.79      0.84      0.82        32\n",
            "      GMB_08       0.80      0.70      0.74        23\n",
            "      GMB_09       0.69      0.85      0.76        13\n",
            "      GMB_10       0.82      0.60      0.69        15\n",
            "\n",
            "    accuracy                           0.76       116\n",
            "   macro avg       0.76      0.75      0.75       116\n",
            "weighted avg       0.76      0.76      0.76       116\n",
            "\n"
          ],
          "name": "stdout"
        }
      ]
    },
    {
      "cell_type": "code",
      "metadata": {
        "colab": {
          "base_uri": "https://localhost:8080/"
        },
        "id": "48FK-HszFifg",
        "outputId": "d7ff3eb7-7071-499a-f079-07cd233b737e"
      },
      "source": [
        "model1.save('nnmodel_scene')"
      ],
      "execution_count": 15,
      "outputs": [
        {
          "output_type": "stream",
          "text": [
            "INFO:tensorflow:Assets written to: nnmodel_scene/assets\n"
          ],
          "name": "stdout"
        }
      ]
    },
    {
      "cell_type": "code",
      "metadata": {
        "id": "o2RfubNjWxRx"
      },
      "source": [
        ""
      ],
      "execution_count": null,
      "outputs": []
    }
  ]
}